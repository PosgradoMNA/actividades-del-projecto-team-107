{
  "metadata": {
    "language_info": {
      "codemirror_mode": {
        "name": "python",
        "version": 3
      },
      "file_extension": ".py",
      "mimetype": "text/x-python",
      "name": "python",
      "nbconvert_exporter": "python",
      "pygments_lexer": "ipython3",
      "version": "3.8"
    },
    "kernelspec": {
      "name": "python",
      "display_name": "Python (Pyodide)",
      "language": "python"
    }
  },
  "nbformat_minor": 4,
  "nbformat": 4,
  "cells": [
    {
      "cell_type": "code",
      "source": "Proyecto Final-Avance01\nIntegrantes del equipo:\nFrancisco Daniel Rocha Estévez-A00966996\nMaximiliano Morones Gómez-A01793815",
      "metadata": {},
      "execution_count": null,
      "outputs": []
    },
    {
      "cell_type": "code",
      "source": "\"Nombre que caracteriza el conjunto de datos.\"\nAfluencia Diaria del Metro CDMX.",
      "metadata": {},
      "execution_count": null,
      "outputs": []
    },
    {
      "cell_type": "code",
      "source": "\"Organización que lo generó.\"\nGobierno de la Ciudad de México.",
      "metadata": {},
      "execution_count": null,
      "outputs": []
    },
    {
      "cell_type": "code",
      "source": "\"Enlace de internet donde se puede descargar la base de datos en línea.\"\nhttps://datos.cdmx.gob.mx/dataset/afluencia-diaria-del-metro-cdmx/resource/0e8ffe58-28bb-4dde-afcd-e5f5b4de4ccb",
      "metadata": {},
      "execution_count": null,
      "outputs": []
    },
    {
      "cell_type": "code",
      "source": "\"Describe el conjunto de datos.\"\nEsta base muestra la afluencia diaria del Metro CDMX. Los datos abarcan dese enero de 2010 \nhasta el 20 de septiembre 2022. \nEsta base se actualizará mensualmente.",
      "metadata": {},
      "execution_count": null,
      "outputs": []
    },
    {
      "cell_type": "code",
      "source": "\"¿Qué datos contiene?\"\nContiene la afluencia en el Organismo Público de Transporte STC Metro, separada por medio \nde acceso, uso de la línea del metro y la densidad de usuarios.",
      "metadata": {},
      "execution_count": null,
      "outputs": []
    },
    {
      "cell_type": "code",
      "source": "\"¿Cuáles son algunas de las preguntas de investigación que podría responder con estos datos?\"\n\"Enumere al menos OCHO (no responda las preguntas).\"\n1. ¿Cuál el numero de personas que usan el metro por año?\n2. ¿Cuál es el top de las líneas de metro mas usadas por año?\n3. ¿Cuál ha sido el incremento de usuarios por año? \n4. ¿Cuál el tipo de ingreso promedio por mes? \n5. ¿Cuál el tipo de ingreso promedio por año? \n6. ¿Cuál el destino más frecuentado? \n7. ¿Número de personas que utilizan el metro al año vs población? \n8. ¿Numero de destinos vs alcaldías en CDMX? ",
      "metadata": {},
      "execution_count": null,
      "outputs": []
    },
    {
      "cell_type": "code",
      "source": "\"¿Qué actor (empresa, sector de la sociedad, organismo descentralizado, gobierno, etc.) \nestaría interesado en las preguntas mencionadas que identificó?\"\nLa secretaría de comunicaciones y transportes.",
      "metadata": {},
      "execution_count": null,
      "outputs": []
    }
  ]
}